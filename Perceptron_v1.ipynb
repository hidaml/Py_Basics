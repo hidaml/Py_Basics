{
 "cells": [
  {
   "cell_type": "markdown",
   "metadata": {},
   "source": [
    "# Perceptron Classico\n"
   ]
  },
  {
   "cell_type": "code",
   "execution_count": 8,
   "metadata": {},
   "outputs": [],
   "source": [
    "import random\n",
    "import numpy as np\n",
    "import pandas as pd\n",
    "import matplotlib.pylab as plt\n",
    "# This line is necessary to show the plots.\n",
    "%matplotlib inline\n",
    "\n",
    "\n"
   ]
  },
  {
   "cell_type": "code",
   "execution_count": 9,
   "metadata": {},
   "outputs": [],
   "source": [
    "# funcoes auxiliares\n",
    "# Pesos\n",
    "def Start_Pesos(Qts_Variaveis_Explicativas):\n",
    "    return np.random.rand(Qts_Variaveis_Explicativas+1)  "
   ]
  },
  {
   "cell_type": "code",
   "execution_count": 10,
   "metadata": {},
   "outputs": [],
   "source": [
    "#Atualiza\n",
    "def Atualiza_Pesos(W_atual,Xn,Yn):\n",
    "    return W_atual+Yn*Xn"
   ]
  },
  {
   "cell_type": "code",
   "execution_count": 11,
   "metadata": {},
   "outputs": [],
   "source": [
    "#sinal\n",
    "def sign(x):\n",
    "    if x >= 0:\n",
    "        return 1\n",
    "    return -1"
   ]
  },
  {
   "cell_type": "code",
   "execution_count": 12,
   "metadata": {},
   "outputs": [],
   "source": [
    "# valor previsto\n",
    "def Calcula_Previsto(W_Atual,Xn):    \n",
    "    produto = np.matmul(W_Atual,Xn)\n",
    "    return sign(produto)"
   ]
  },
  {
   "cell_type": "code",
   "execution_count": 59,
   "metadata": {},
   "outputs": [],
   "source": [
    "# Ordena o dadaset X e Y(variaveis explicativas)\n",
    "def Ordena(DadosX,DadosY):\n",
    "    DadosY = np.transpose(np.matrix(DadosY))\n",
    "    Dados_Aux = np.append(DadosX,DadosY,axis=1)\n",
    "    Dados_Full = pd.DataFrame(Dados_Aux)\n",
    "    lista=list(range(0,DadosY.shape[0]-1))\n",
    "    Dados_Full = Dados_Full.sort_values(lista)\n",
    "    return(np.array(Dados_Full))\n",
    "    "
   ]
  },
  {
   "cell_type": "code",
   "execution_count": 60,
   "metadata": {},
   "outputs": [],
   "source": [
    "# Adiciona a coluna de constantes\n",
    "def Add_bias(Dados):\n",
    "    qts_linhas=np.shape(Dados)[0]\n",
    "    bias = np.ones((qts_linhas,1))\n",
    "    resultado = np.c_[bias,Dados]\n",
    "    return np.array(resultado)  "
   ]
  },
  {
   "cell_type": "code",
   "execution_count": 61,
   "metadata": {},
   "outputs": [],
   "source": [
    "# Plota a solucao do perceptron\n",
    "def PlotaSolucaoPerceptronClassico(DatasetAB,labelsAB,W_Classic):\n",
    "    \n",
    "    # variaveis auxiliares e geracao de pontos para o limiar\n",
    "    xlim_max=np.max(DatasetAB[:,0])\n",
    "    xlim_min=np.min(DatasetAB[:,0])\n",
    "    x = np.linspace(xlim_min, xlim_max, 3)\n",
    "    y= -(W_Classic[1]/W_Classic[2])*x-W_Classic[0]/W_Classic[2]\n",
    "    \n",
    "    # plot\n",
    "    plt.title('Separação dos conjuntos')\n",
    "    plt.scatter(DatasetAB[:,0], DatasetAB[:,1], s=20, c=labelsAB)\n",
    "    plt.plot(x, y, 'k-', linewidth=1,alpha=1)\n",
    "    return(plt.show())"
   ]
  },
  {
   "cell_type": "code",
   "execution_count": 62,
   "metadata": {},
   "outputs": [],
   "source": [
    "# Calculo do erro dentro do treino\n",
    "\n",
    "def Erro_In(X,Y,W):\n",
    "    # Quantidade de instancias\n",
    "    Qts_Instancias=np.shape(Y)[0]\n",
    "    # usando o W aual calcula em toda a base a classificao prevista\n",
    "    Vetor_Previstos = np.array(list(map(lambda x:Calcula_Previsto(W,x),X)))\n",
    "    \n",
    "    # verifica quais instancias o classificador errou\n",
    "    Vetor_Erros=(np.equal(Vetor_Previstos,Y))\n",
    "    Vetor_Erros=Vetor_Erros.astype(int)-1\n",
    "    Vetor_Erros=np.abs(Vetor_Erros)\n",
    "    \n",
    "    # calcula o erro dentro do treino\n",
    "    Erro=Vetor_Erros.sum()/Qts_Instancias\n",
    "    return(Erro)"
   ]
  },
  {
   "cell_type": "code",
   "execution_count": 63,
   "metadata": {},
   "outputs": [
    {
     "data": {
      "text/plain": [
       "[0, 1, 2, 3]"
      ]
     },
     "execution_count": 63,
     "metadata": {},
     "output_type": "execute_result"
    }
   ],
   "source": [
    "X=Add_bias(np.array([[0,0],\n",
    "                     [1,1],\n",
    "                     [1,0],\n",
    "                     [1,1],\n",
    "                     [1,0.9]]))\n",
    "\n",
    "Y=np.array([-1,1,1,1,-1])\n",
    "\n",
    "W=np.array([0.5,-1,1])\n",
    "Y.shape[0]\n",
    "list(range(0,Y.shape[0]-1))"
   ]
  },
  {
   "cell_type": "code",
   "execution_count": 64,
   "metadata": {},
   "outputs": [
    {
     "data": {
      "text/plain": [
       "array([[ 1. ,  0. ,  0. , -1. ],\n",
       "       [ 1. ,  1. ,  0. ,  1. ],\n",
       "       [ 1. ,  1. ,  0.9, -1. ],\n",
       "       [ 1. ,  1. ,  1. ,  1. ],\n",
       "       [ 1. ,  1. ,  1. ,  1. ]])"
      ]
     },
     "execution_count": 64,
     "metadata": {},
     "output_type": "execute_result"
    }
   ],
   "source": [
    "Dados_Full=Ordena(X,Y)\n",
    "Dados_Full"
   ]
  },
  {
   "cell_type": "code",
   "execution_count": 137,
   "metadata": {},
   "outputs": [
    {
     "data": {
      "text/plain": [
       "array([-1.,  1., -1.,  1.,  1.])"
      ]
     },
     "execution_count": 137,
     "metadata": {},
     "output_type": "execute_result"
    }
   ],
   "source": [
    "Y=np.array(Dados_Full[:,-1])\n",
    "Y"
   ]
  },
  {
   "cell_type": "code",
   "execution_count": 138,
   "metadata": {},
   "outputs": [
    {
     "data": {
      "text/plain": [
       "array([[1. , 0. , 0. ],\n",
       "       [1. , 1. , 0. ],\n",
       "       [1. , 1. , 0.9],\n",
       "       [1. , 1. , 1. ],\n",
       "       [1. , 1. , 1. ]])"
      ]
     },
     "execution_count": 138,
     "metadata": {},
     "output_type": "execute_result"
    }
   ],
   "source": [
    "X=np.array(Dados_Full[:,0:-1])\n",
    "X"
   ]
  },
  {
   "cell_type": "code",
   "execution_count": 141,
   "metadata": {},
   "outputs": [],
   "source": [
    "def Perceptron_Classico(W,X,Y,maxiter=1000,reorder=True):\n",
    "    \"\"\" X: variavel com a coluna de bias,\n",
    "        Y: rotulos\n",
    "        W: Start Inicial\"\"\"\n",
    "    \n",
    "    # Preparacao da base (ordenacao)\n",
    "    Dados_Completos=Ordena(X,Y)\n",
    "    X=np.array(Dados_Completos[:,0:-1])\n",
    "    Y=np.array(Dados_Completos[:,-1])\n",
    "    \n",
    "    Qts_Instancias = np.shape(Y)[0] # define a quantidade de instancias\n",
    "    i=0\n",
    "    iteracoes=1\n",
    "    WCP = W.flatten()    \n",
    "    while i<=Qts_Instancias-1:\n",
    "        if iteracoes>=maxiter and reorder==False:\n",
    "            break\n",
    "        Previsto = Calcula_Previsto(W,X[i])\n",
    "        if Previsto != Y[i]:\n",
    "            W=Atualiza_Pesos(W,X[i],Y[i])\n",
    "            i=0\n",
    "            iteracoes+=1\n",
    "            WCP=np.vstack([WCP,W])\n",
    "        else:\n",
    "            i+=1\n",
    "            iteracoes+=1\n",
    "    print(iteracoes)\n",
    "    return WCP    "
   ]
  },
  {
   "cell_type": "code",
   "execution_count": 143,
   "metadata": {},
   "outputs": [
    {
     "name": "stdout",
     "output_type": "stream",
     "text": [
      "1000\n"
     ]
    },
    {
     "data": {
      "text/plain": [
       "array([[ 5.00000000e-01, -1.00000000e+00,  1.00000000e+00],\n",
       "       [-5.00000000e-01, -1.00000000e+00,  1.00000000e+00],\n",
       "       [ 5.00000000e-01,  0.00000000e+00,  1.00000000e+00],\n",
       "       [-5.00000000e-01,  0.00000000e+00,  1.00000000e+00],\n",
       "       [ 5.00000000e-01,  1.00000000e+00,  1.00000000e+00],\n",
       "       [-5.00000000e-01,  1.00000000e+00,  1.00000000e+00],\n",
       "       [-1.50000000e+00,  0.00000000e+00,  1.00000000e-01],\n",
       "       [-5.00000000e-01,  1.00000000e+00,  1.00000000e-01],\n",
       "       [-1.50000000e+00,  0.00000000e+00, -8.00000000e-01],\n",
       "       [-5.00000000e-01,  1.00000000e+00, -8.00000000e-01],\n",
       "       [ 5.00000000e-01,  2.00000000e+00,  2.00000000e-01],\n",
       "       [-5.00000000e-01,  2.00000000e+00,  2.00000000e-01],\n",
       "       [-1.50000000e+00,  1.00000000e+00, -7.00000000e-01],\n",
       "       [-5.00000000e-01,  2.00000000e+00, -7.00000000e-01],\n",
       "       [-1.50000000e+00,  1.00000000e+00, -1.60000000e+00],\n",
       "       [-5.00000000e-01,  2.00000000e+00, -1.60000000e+00],\n",
       "       [-1.50000000e+00,  1.00000000e+00, -2.50000000e+00],\n",
       "       [-5.00000000e-01,  2.00000000e+00, -2.50000000e+00],\n",
       "       [ 5.00000000e-01,  3.00000000e+00, -1.50000000e+00],\n",
       "       [-5.00000000e-01,  3.00000000e+00, -1.50000000e+00],\n",
       "       [-1.50000000e+00,  2.00000000e+00, -2.40000000e+00],\n",
       "       [-5.00000000e-01,  3.00000000e+00, -1.40000000e+00],\n",
       "       [-1.50000000e+00,  2.00000000e+00, -2.30000000e+00],\n",
       "       [-5.00000000e-01,  3.00000000e+00, -1.30000000e+00],\n",
       "       [-1.50000000e+00,  2.00000000e+00, -2.20000000e+00],\n",
       "       [-5.00000000e-01,  3.00000000e+00, -1.20000000e+00],\n",
       "       [-1.50000000e+00,  2.00000000e+00, -2.10000000e+00],\n",
       "       [-5.00000000e-01,  3.00000000e+00, -1.10000000e+00],\n",
       "       [-1.50000000e+00,  2.00000000e+00, -2.00000000e+00],\n",
       "       [-5.00000000e-01,  3.00000000e+00, -1.00000000e+00],\n",
       "       [-1.50000000e+00,  2.00000000e+00, -1.90000000e+00],\n",
       "       [-5.00000000e-01,  3.00000000e+00, -9.00000000e-01],\n",
       "       [-1.50000000e+00,  2.00000000e+00, -1.80000000e+00],\n",
       "       [-5.00000000e-01,  3.00000000e+00, -8.00000000e-01],\n",
       "       [-1.50000000e+00,  2.00000000e+00, -1.70000000e+00],\n",
       "       [-5.00000000e-01,  3.00000000e+00, -7.00000000e-01],\n",
       "       [-1.50000000e+00,  2.00000000e+00, -1.60000000e+00],\n",
       "       [-5.00000000e-01,  3.00000000e+00, -6.00000000e-01],\n",
       "       [-1.50000000e+00,  2.00000000e+00, -1.50000000e+00],\n",
       "       [-5.00000000e-01,  3.00000000e+00, -5.00000000e-01],\n",
       "       [-1.50000000e+00,  2.00000000e+00, -1.40000000e+00],\n",
       "       [-5.00000000e-01,  3.00000000e+00, -4.00000000e-01],\n",
       "       [-1.50000000e+00,  2.00000000e+00, -1.30000000e+00],\n",
       "       [-5.00000000e-01,  3.00000000e+00, -3.00000000e-01],\n",
       "       [-1.50000000e+00,  2.00000000e+00, -1.20000000e+00],\n",
       "       [-5.00000000e-01,  3.00000000e+00, -2.00000000e-01],\n",
       "       [-1.50000000e+00,  2.00000000e+00, -1.10000000e+00],\n",
       "       [-5.00000000e-01,  3.00000000e+00, -1.00000000e-01],\n",
       "       [-1.50000000e+00,  2.00000000e+00, -1.00000000e+00],\n",
       "       [-5.00000000e-01,  3.00000000e+00,  1.22124533e-15],\n",
       "       [-1.50000000e+00,  2.00000000e+00, -9.00000000e-01],\n",
       "       [-5.00000000e-01,  3.00000000e+00,  1.00000000e-01],\n",
       "       [-1.50000000e+00,  2.00000000e+00, -8.00000000e-01],\n",
       "       [-5.00000000e-01,  3.00000000e+00,  2.00000000e-01],\n",
       "       [-1.50000000e+00,  2.00000000e+00, -7.00000000e-01],\n",
       "       [-5.00000000e-01,  3.00000000e+00,  3.00000000e-01],\n",
       "       [-1.50000000e+00,  2.00000000e+00, -6.00000000e-01],\n",
       "       [-5.00000000e-01,  3.00000000e+00,  4.00000000e-01],\n",
       "       [-1.50000000e+00,  2.00000000e+00, -5.00000000e-01],\n",
       "       [-2.50000000e+00,  1.00000000e+00, -1.40000000e+00],\n",
       "       [-1.50000000e+00,  2.00000000e+00, -1.40000000e+00],\n",
       "       [-5.00000000e-01,  3.00000000e+00, -4.00000000e-01],\n",
       "       [-1.50000000e+00,  2.00000000e+00, -1.30000000e+00],\n",
       "       [-5.00000000e-01,  3.00000000e+00, -3.00000000e-01],\n",
       "       [-1.50000000e+00,  2.00000000e+00, -1.20000000e+00],\n",
       "       [-5.00000000e-01,  3.00000000e+00, -2.00000000e-01],\n",
       "       [-1.50000000e+00,  2.00000000e+00, -1.10000000e+00],\n",
       "       [-5.00000000e-01,  3.00000000e+00, -1.00000000e-01],\n",
       "       [-1.50000000e+00,  2.00000000e+00, -1.00000000e+00],\n",
       "       [-5.00000000e-01,  3.00000000e+00,  1.22124533e-15],\n",
       "       [-1.50000000e+00,  2.00000000e+00, -9.00000000e-01],\n",
       "       [-5.00000000e-01,  3.00000000e+00,  1.00000000e-01],\n",
       "       [-1.50000000e+00,  2.00000000e+00, -8.00000000e-01],\n",
       "       [-5.00000000e-01,  3.00000000e+00,  2.00000000e-01],\n",
       "       [-1.50000000e+00,  2.00000000e+00, -7.00000000e-01],\n",
       "       [-5.00000000e-01,  3.00000000e+00,  3.00000000e-01],\n",
       "       [-1.50000000e+00,  2.00000000e+00, -6.00000000e-01],\n",
       "       [-5.00000000e-01,  3.00000000e+00,  4.00000000e-01],\n",
       "       [-1.50000000e+00,  2.00000000e+00, -5.00000000e-01],\n",
       "       [-2.50000000e+00,  1.00000000e+00, -1.40000000e+00],\n",
       "       [-1.50000000e+00,  2.00000000e+00, -1.40000000e+00],\n",
       "       [-5.00000000e-01,  3.00000000e+00, -4.00000000e-01],\n",
       "       [-1.50000000e+00,  2.00000000e+00, -1.30000000e+00],\n",
       "       [-5.00000000e-01,  3.00000000e+00, -3.00000000e-01],\n",
       "       [-1.50000000e+00,  2.00000000e+00, -1.20000000e+00],\n",
       "       [-5.00000000e-01,  3.00000000e+00, -2.00000000e-01],\n",
       "       [-1.50000000e+00,  2.00000000e+00, -1.10000000e+00],\n",
       "       [-5.00000000e-01,  3.00000000e+00, -1.00000000e-01],\n",
       "       [-1.50000000e+00,  2.00000000e+00, -1.00000000e+00],\n",
       "       [-5.00000000e-01,  3.00000000e+00,  1.22124533e-15],\n",
       "       [-1.50000000e+00,  2.00000000e+00, -9.00000000e-01],\n",
       "       [-5.00000000e-01,  3.00000000e+00,  1.00000000e-01],\n",
       "       [-1.50000000e+00,  2.00000000e+00, -8.00000000e-01],\n",
       "       [-5.00000000e-01,  3.00000000e+00,  2.00000000e-01],\n",
       "       [-1.50000000e+00,  2.00000000e+00, -7.00000000e-01],\n",
       "       [-5.00000000e-01,  3.00000000e+00,  3.00000000e-01],\n",
       "       [-1.50000000e+00,  2.00000000e+00, -6.00000000e-01],\n",
       "       [-5.00000000e-01,  3.00000000e+00,  4.00000000e-01],\n",
       "       [-1.50000000e+00,  2.00000000e+00, -5.00000000e-01],\n",
       "       [-2.50000000e+00,  1.00000000e+00, -1.40000000e+00],\n",
       "       [-1.50000000e+00,  2.00000000e+00, -1.40000000e+00],\n",
       "       [-5.00000000e-01,  3.00000000e+00, -4.00000000e-01],\n",
       "       [-1.50000000e+00,  2.00000000e+00, -1.30000000e+00],\n",
       "       [-5.00000000e-01,  3.00000000e+00, -3.00000000e-01],\n",
       "       [-1.50000000e+00,  2.00000000e+00, -1.20000000e+00],\n",
       "       [-5.00000000e-01,  3.00000000e+00, -2.00000000e-01],\n",
       "       [-1.50000000e+00,  2.00000000e+00, -1.10000000e+00],\n",
       "       [-5.00000000e-01,  3.00000000e+00, -1.00000000e-01],\n",
       "       [-1.50000000e+00,  2.00000000e+00, -1.00000000e+00],\n",
       "       [-5.00000000e-01,  3.00000000e+00,  1.22124533e-15],\n",
       "       [-1.50000000e+00,  2.00000000e+00, -9.00000000e-01],\n",
       "       [-5.00000000e-01,  3.00000000e+00,  1.00000000e-01],\n",
       "       [-1.50000000e+00,  2.00000000e+00, -8.00000000e-01],\n",
       "       [-5.00000000e-01,  3.00000000e+00,  2.00000000e-01],\n",
       "       [-1.50000000e+00,  2.00000000e+00, -7.00000000e-01],\n",
       "       [-5.00000000e-01,  3.00000000e+00,  3.00000000e-01],\n",
       "       [-1.50000000e+00,  2.00000000e+00, -6.00000000e-01],\n",
       "       [-5.00000000e-01,  3.00000000e+00,  4.00000000e-01],\n",
       "       [-1.50000000e+00,  2.00000000e+00, -5.00000000e-01],\n",
       "       [-2.50000000e+00,  1.00000000e+00, -1.40000000e+00],\n",
       "       [-1.50000000e+00,  2.00000000e+00, -1.40000000e+00],\n",
       "       [-5.00000000e-01,  3.00000000e+00, -4.00000000e-01],\n",
       "       [-1.50000000e+00,  2.00000000e+00, -1.30000000e+00],\n",
       "       [-5.00000000e-01,  3.00000000e+00, -3.00000000e-01],\n",
       "       [-1.50000000e+00,  2.00000000e+00, -1.20000000e+00],\n",
       "       [-5.00000000e-01,  3.00000000e+00, -2.00000000e-01],\n",
       "       [-1.50000000e+00,  2.00000000e+00, -1.10000000e+00],\n",
       "       [-5.00000000e-01,  3.00000000e+00, -1.00000000e-01],\n",
       "       [-1.50000000e+00,  2.00000000e+00, -1.00000000e+00],\n",
       "       [-5.00000000e-01,  3.00000000e+00,  1.22124533e-15],\n",
       "       [-1.50000000e+00,  2.00000000e+00, -9.00000000e-01],\n",
       "       [-5.00000000e-01,  3.00000000e+00,  1.00000000e-01],\n",
       "       [-1.50000000e+00,  2.00000000e+00, -8.00000000e-01],\n",
       "       [-5.00000000e-01,  3.00000000e+00,  2.00000000e-01],\n",
       "       [-1.50000000e+00,  2.00000000e+00, -7.00000000e-01],\n",
       "       [-5.00000000e-01,  3.00000000e+00,  3.00000000e-01],\n",
       "       [-1.50000000e+00,  2.00000000e+00, -6.00000000e-01],\n",
       "       [-5.00000000e-01,  3.00000000e+00,  4.00000000e-01],\n",
       "       [-1.50000000e+00,  2.00000000e+00, -5.00000000e-01],\n",
       "       [-2.50000000e+00,  1.00000000e+00, -1.40000000e+00],\n",
       "       [-1.50000000e+00,  2.00000000e+00, -1.40000000e+00],\n",
       "       [-5.00000000e-01,  3.00000000e+00, -4.00000000e-01],\n",
       "       [-1.50000000e+00,  2.00000000e+00, -1.30000000e+00],\n",
       "       [-5.00000000e-01,  3.00000000e+00, -3.00000000e-01],\n",
       "       [-1.50000000e+00,  2.00000000e+00, -1.20000000e+00],\n",
       "       [-5.00000000e-01,  3.00000000e+00, -2.00000000e-01],\n",
       "       [-1.50000000e+00,  2.00000000e+00, -1.10000000e+00],\n",
       "       [-5.00000000e-01,  3.00000000e+00, -1.00000000e-01],\n",
       "       [-1.50000000e+00,  2.00000000e+00, -1.00000000e+00],\n",
       "       [-5.00000000e-01,  3.00000000e+00,  1.22124533e-15],\n",
       "       [-1.50000000e+00,  2.00000000e+00, -9.00000000e-01],\n",
       "       [-5.00000000e-01,  3.00000000e+00,  1.00000000e-01],\n",
       "       [-1.50000000e+00,  2.00000000e+00, -8.00000000e-01],\n",
       "       [-5.00000000e-01,  3.00000000e+00,  2.00000000e-01],\n",
       "       [-1.50000000e+00,  2.00000000e+00, -7.00000000e-01],\n",
       "       [-5.00000000e-01,  3.00000000e+00,  3.00000000e-01],\n",
       "       [-1.50000000e+00,  2.00000000e+00, -6.00000000e-01],\n",
       "       [-5.00000000e-01,  3.00000000e+00,  4.00000000e-01],\n",
       "       [-1.50000000e+00,  2.00000000e+00, -5.00000000e-01],\n",
       "       [-2.50000000e+00,  1.00000000e+00, -1.40000000e+00],\n",
       "       [-1.50000000e+00,  2.00000000e+00, -1.40000000e+00],\n",
       "       [-5.00000000e-01,  3.00000000e+00, -4.00000000e-01],\n",
       "       [-1.50000000e+00,  2.00000000e+00, -1.30000000e+00],\n",
       "       [-5.00000000e-01,  3.00000000e+00, -3.00000000e-01],\n",
       "       [-1.50000000e+00,  2.00000000e+00, -1.20000000e+00],\n",
       "       [-5.00000000e-01,  3.00000000e+00, -2.00000000e-01],\n",
       "       [-1.50000000e+00,  2.00000000e+00, -1.10000000e+00],\n",
       "       [-5.00000000e-01,  3.00000000e+00, -1.00000000e-01],\n",
       "       [-1.50000000e+00,  2.00000000e+00, -1.00000000e+00],\n",
       "       [-5.00000000e-01,  3.00000000e+00,  1.22124533e-15],\n",
       "       [-1.50000000e+00,  2.00000000e+00, -9.00000000e-01],\n",
       "       [-5.00000000e-01,  3.00000000e+00,  1.00000000e-01],\n",
       "       [-1.50000000e+00,  2.00000000e+00, -8.00000000e-01],\n",
       "       [-5.00000000e-01,  3.00000000e+00,  2.00000000e-01],\n",
       "       [-1.50000000e+00,  2.00000000e+00, -7.00000000e-01],\n",
       "       [-5.00000000e-01,  3.00000000e+00,  3.00000000e-01],\n",
       "       [-1.50000000e+00,  2.00000000e+00, -6.00000000e-01],\n",
       "       [-5.00000000e-01,  3.00000000e+00,  4.00000000e-01],\n",
       "       [-1.50000000e+00,  2.00000000e+00, -5.00000000e-01],\n",
       "       [-2.50000000e+00,  1.00000000e+00, -1.40000000e+00],\n",
       "       [-1.50000000e+00,  2.00000000e+00, -1.40000000e+00],\n",
       "       [-5.00000000e-01,  3.00000000e+00, -4.00000000e-01],\n",
       "       [-1.50000000e+00,  2.00000000e+00, -1.30000000e+00],\n",
       "       [-5.00000000e-01,  3.00000000e+00, -3.00000000e-01],\n",
       "       [-1.50000000e+00,  2.00000000e+00, -1.20000000e+00],\n",
       "       [-5.00000000e-01,  3.00000000e+00, -2.00000000e-01],\n",
       "       [-1.50000000e+00,  2.00000000e+00, -1.10000000e+00],\n",
       "       [-5.00000000e-01,  3.00000000e+00, -1.00000000e-01],\n",
       "       [-1.50000000e+00,  2.00000000e+00, -1.00000000e+00],\n",
       "       [-5.00000000e-01,  3.00000000e+00,  1.22124533e-15],\n",
       "       [-1.50000000e+00,  2.00000000e+00, -9.00000000e-01],\n",
       "       [-5.00000000e-01,  3.00000000e+00,  1.00000000e-01],\n",
       "       [-1.50000000e+00,  2.00000000e+00, -8.00000000e-01],\n",
       "       [-5.00000000e-01,  3.00000000e+00,  2.00000000e-01],\n",
       "       [-1.50000000e+00,  2.00000000e+00, -7.00000000e-01],\n",
       "       [-5.00000000e-01,  3.00000000e+00,  3.00000000e-01],\n",
       "       [-1.50000000e+00,  2.00000000e+00, -6.00000000e-01],\n",
       "       [-5.00000000e-01,  3.00000000e+00,  4.00000000e-01],\n",
       "       [-1.50000000e+00,  2.00000000e+00, -5.00000000e-01],\n",
       "       [-2.50000000e+00,  1.00000000e+00, -1.40000000e+00],\n",
       "       [-1.50000000e+00,  2.00000000e+00, -1.40000000e+00],\n",
       "       [-5.00000000e-01,  3.00000000e+00, -4.00000000e-01],\n",
       "       [-1.50000000e+00,  2.00000000e+00, -1.30000000e+00],\n",
       "       [-5.00000000e-01,  3.00000000e+00, -3.00000000e-01],\n",
       "       [-1.50000000e+00,  2.00000000e+00, -1.20000000e+00],\n",
       "       [-5.00000000e-01,  3.00000000e+00, -2.00000000e-01],\n",
       "       [-1.50000000e+00,  2.00000000e+00, -1.10000000e+00],\n",
       "       [-5.00000000e-01,  3.00000000e+00, -1.00000000e-01],\n",
       "       [-1.50000000e+00,  2.00000000e+00, -1.00000000e+00],\n",
       "       [-5.00000000e-01,  3.00000000e+00,  1.22124533e-15],\n",
       "       [-1.50000000e+00,  2.00000000e+00, -9.00000000e-01],\n",
       "       [-5.00000000e-01,  3.00000000e+00,  1.00000000e-01],\n",
       "       [-1.50000000e+00,  2.00000000e+00, -8.00000000e-01],\n",
       "       [-5.00000000e-01,  3.00000000e+00,  2.00000000e-01],\n",
       "       [-1.50000000e+00,  2.00000000e+00, -7.00000000e-01],\n",
       "       [-5.00000000e-01,  3.00000000e+00,  3.00000000e-01],\n",
       "       [-1.50000000e+00,  2.00000000e+00, -6.00000000e-01],\n",
       "       [-5.00000000e-01,  3.00000000e+00,  4.00000000e-01],\n",
       "       [-1.50000000e+00,  2.00000000e+00, -5.00000000e-01],\n",
       "       [-2.50000000e+00,  1.00000000e+00, -1.40000000e+00],\n",
       "       [-1.50000000e+00,  2.00000000e+00, -1.40000000e+00],\n",
       "       [-5.00000000e-01,  3.00000000e+00, -4.00000000e-01],\n",
       "       [-1.50000000e+00,  2.00000000e+00, -1.30000000e+00],\n",
       "       [-5.00000000e-01,  3.00000000e+00, -3.00000000e-01],\n",
       "       [-1.50000000e+00,  2.00000000e+00, -1.20000000e+00],\n",
       "       [-5.00000000e-01,  3.00000000e+00, -2.00000000e-01],\n",
       "       [-1.50000000e+00,  2.00000000e+00, -1.10000000e+00],\n",
       "       [-5.00000000e-01,  3.00000000e+00, -1.00000000e-01],\n",
       "       [-1.50000000e+00,  2.00000000e+00, -1.00000000e+00],\n",
       "       [-5.00000000e-01,  3.00000000e+00,  1.22124533e-15],\n",
       "       [-1.50000000e+00,  2.00000000e+00, -9.00000000e-01],\n",
       "       [-5.00000000e-01,  3.00000000e+00,  1.00000000e-01],\n",
       "       [-1.50000000e+00,  2.00000000e+00, -8.00000000e-01],\n",
       "       [-5.00000000e-01,  3.00000000e+00,  2.00000000e-01],\n",
       "       [-1.50000000e+00,  2.00000000e+00, -7.00000000e-01],\n",
       "       [-5.00000000e-01,  3.00000000e+00,  3.00000000e-01],\n",
       "       [-1.50000000e+00,  2.00000000e+00, -6.00000000e-01],\n",
       "       [-5.00000000e-01,  3.00000000e+00,  4.00000000e-01],\n",
       "       [-1.50000000e+00,  2.00000000e+00, -5.00000000e-01],\n",
       "       [-2.50000000e+00,  1.00000000e+00, -1.40000000e+00],\n",
       "       [-1.50000000e+00,  2.00000000e+00, -1.40000000e+00],\n",
       "       [-5.00000000e-01,  3.00000000e+00, -4.00000000e-01],\n",
       "       [-1.50000000e+00,  2.00000000e+00, -1.30000000e+00],\n",
       "       [-5.00000000e-01,  3.00000000e+00, -3.00000000e-01],\n",
       "       [-1.50000000e+00,  2.00000000e+00, -1.20000000e+00],\n",
       "       [-5.00000000e-01,  3.00000000e+00, -2.00000000e-01],\n",
       "       [-1.50000000e+00,  2.00000000e+00, -1.10000000e+00],\n",
       "       [-5.00000000e-01,  3.00000000e+00, -1.00000000e-01],\n",
       "       [-1.50000000e+00,  2.00000000e+00, -1.00000000e+00],\n",
       "       [-5.00000000e-01,  3.00000000e+00,  1.22124533e-15],\n",
       "       [-1.50000000e+00,  2.00000000e+00, -9.00000000e-01],\n",
       "       [-5.00000000e-01,  3.00000000e+00,  1.00000000e-01],\n",
       "       [-1.50000000e+00,  2.00000000e+00, -8.00000000e-01],\n",
       "       [-5.00000000e-01,  3.00000000e+00,  2.00000000e-01],\n",
       "       [-1.50000000e+00,  2.00000000e+00, -7.00000000e-01],\n",
       "       [-5.00000000e-01,  3.00000000e+00,  3.00000000e-01],\n",
       "       [-1.50000000e+00,  2.00000000e+00, -6.00000000e-01],\n",
       "       [-5.00000000e-01,  3.00000000e+00,  4.00000000e-01],\n",
       "       [-1.50000000e+00,  2.00000000e+00, -5.00000000e-01],\n",
       "       [-2.50000000e+00,  1.00000000e+00, -1.40000000e+00],\n",
       "       [-1.50000000e+00,  2.00000000e+00, -1.40000000e+00],\n",
       "       [-5.00000000e-01,  3.00000000e+00, -4.00000000e-01],\n",
       "       [-1.50000000e+00,  2.00000000e+00, -1.30000000e+00],\n",
       "       [-5.00000000e-01,  3.00000000e+00, -3.00000000e-01],\n",
       "       [-1.50000000e+00,  2.00000000e+00, -1.20000000e+00],\n",
       "       [-5.00000000e-01,  3.00000000e+00, -2.00000000e-01],\n",
       "       [-1.50000000e+00,  2.00000000e+00, -1.10000000e+00],\n",
       "       [-5.00000000e-01,  3.00000000e+00, -1.00000000e-01],\n",
       "       [-1.50000000e+00,  2.00000000e+00, -1.00000000e+00],\n",
       "       [-5.00000000e-01,  3.00000000e+00,  1.22124533e-15],\n",
       "       [-1.50000000e+00,  2.00000000e+00, -9.00000000e-01],\n",
       "       [-5.00000000e-01,  3.00000000e+00,  1.00000000e-01],\n",
       "       [-1.50000000e+00,  2.00000000e+00, -8.00000000e-01],\n",
       "       [-5.00000000e-01,  3.00000000e+00,  2.00000000e-01],\n",
       "       [-1.50000000e+00,  2.00000000e+00, -7.00000000e-01],\n",
       "       [-5.00000000e-01,  3.00000000e+00,  3.00000000e-01],\n",
       "       [-1.50000000e+00,  2.00000000e+00, -6.00000000e-01],\n",
       "       [-5.00000000e-01,  3.00000000e+00,  4.00000000e-01],\n",
       "       [-1.50000000e+00,  2.00000000e+00, -5.00000000e-01],\n",
       "       [-2.50000000e+00,  1.00000000e+00, -1.40000000e+00],\n",
       "       [-1.50000000e+00,  2.00000000e+00, -1.40000000e+00],\n",
       "       [-5.00000000e-01,  3.00000000e+00, -4.00000000e-01],\n",
       "       [-1.50000000e+00,  2.00000000e+00, -1.30000000e+00],\n",
       "       [-5.00000000e-01,  3.00000000e+00, -3.00000000e-01],\n",
       "       [-1.50000000e+00,  2.00000000e+00, -1.20000000e+00],\n",
       "       [-5.00000000e-01,  3.00000000e+00, -2.00000000e-01],\n",
       "       [-1.50000000e+00,  2.00000000e+00, -1.10000000e+00],\n",
       "       [-5.00000000e-01,  3.00000000e+00, -1.00000000e-01],\n",
       "       [-1.50000000e+00,  2.00000000e+00, -1.00000000e+00],\n",
       "       [-5.00000000e-01,  3.00000000e+00,  1.22124533e-15],\n",
       "       [-1.50000000e+00,  2.00000000e+00, -9.00000000e-01],\n",
       "       [-5.00000000e-01,  3.00000000e+00,  1.00000000e-01],\n",
       "       [-1.50000000e+00,  2.00000000e+00, -8.00000000e-01],\n",
       "       [-5.00000000e-01,  3.00000000e+00,  2.00000000e-01],\n",
       "       [-1.50000000e+00,  2.00000000e+00, -7.00000000e-01],\n",
       "       [-5.00000000e-01,  3.00000000e+00,  3.00000000e-01],\n",
       "       [-1.50000000e+00,  2.00000000e+00, -6.00000000e-01],\n",
       "       [-5.00000000e-01,  3.00000000e+00,  4.00000000e-01],\n",
       "       [-1.50000000e+00,  2.00000000e+00, -5.00000000e-01],\n",
       "       [-2.50000000e+00,  1.00000000e+00, -1.40000000e+00],\n",
       "       [-1.50000000e+00,  2.00000000e+00, -1.40000000e+00]])"
      ]
     },
     "execution_count": 143,
     "metadata": {},
     "output_type": "execute_result"
    }
   ],
   "source": [
    "w_classic = Perceptron_Classico(W,X,Y,1000,False)\n",
    "w_classic"
   ]
  },
  {
   "cell_type": "code",
   "execution_count": 215,
   "metadata": {},
   "outputs": [
    {
     "data": {
      "image/png": "[encoded data removed]",
      "text/plain": [
       "<Figure size 432x288 with 1 Axes>"
      ]
     },
     "metadata": {
      "needs_background": "light"
     },
     "output_type": "display_data"
    }
   ],
   "source": [
    "\n",
    "DadosY = np.transpose(np.matrix(Y))\n",
    "Dados_Aux = np.append(X,DadosY,axis=1)\n",
    "PlotaSolucaoPerceptronClassico(X[:,1:],Y,w_classic[-1])"
   ]
  },
  {
   "cell_type": "code",
   "execution_count": 217,
   "metadata": {},
   "outputs": [
    {
     "data": {
      "text/plain": [
       "array([-1.5,  2. , -1.4])"
      ]
     },
     "execution_count": 217,
     "metadata": {},
     "output_type": "execute_result"
    }
   ],
   "source": [
    "W=w_classic[-1]\n",
    "W"
   ]
  },
  {
   "cell_type": "code",
   "execution_count": 186,
   "metadata": {},
   "outputs": [
    {
     "data": {
      "text/plain": [
       "array([[1. , 0. , 0. ],\n",
       "       [1. , 1. , 1. ],\n",
       "       [1. , 1. , 0. ],\n",
       "       [1. , 1. , 1. ],\n",
       "       [1. , 1. , 0.9]])"
      ]
     },
     "execution_count": 186,
     "metadata": {},
     "output_type": "execute_result"
    }
   ],
   "source": [
    "X"
   ]
  },
  {
   "cell_type": "code",
   "execution_count": 187,
   "metadata": {},
   "outputs": [
    {
     "data": {
      "text/plain": [
       "array([-1,  1,  1,  1, -1])"
      ]
     },
     "execution_count": 187,
     "metadata": {},
     "output_type": "execute_result"
    }
   ],
   "source": [
    "Y"
   ]
  },
  {
   "cell_type": "code",
   "execution_count": 195,
   "metadata": {},
   "outputs": [
    {
     "data": {
      "text/plain": [
       "0.4"
      ]
     },
     "execution_count": 195,
     "metadata": {},
     "output_type": "execute_result"
    }
   ],
   "source": [
    "Erro_In(X,Y,W)"
   ]
  },
  {
   "cell_type": "code",
   "execution_count": 189,
   "metadata": {},
   "outputs": [
    {
     "data": {
      "text/plain": [
       "5"
      ]
     },
     "execution_count": 189,
     "metadata": {},
     "output_type": "execute_result"
    }
   ],
   "source": [
    "Qts_Instancias=np.shape(Y)[0]\n",
    "Qts_Instancias"
   ]
  },
  {
   "cell_type": "code",
   "execution_count": 190,
   "metadata": {},
   "outputs": [
    {
     "data": {
      "text/plain": [
       "array([-1, -1,  1, -1, -1])"
      ]
     },
     "execution_count": 190,
     "metadata": {},
     "output_type": "execute_result"
    }
   ],
   "source": [
    "Vetor_Previstos = np.array(list(map(lambda x:Calcula_Previsto(W,x),X)))\n",
    "Vetor_Previstos"
   ]
  },
  {
   "cell_type": "code",
   "execution_count": 191,
   "metadata": {},
   "outputs": [
    {
     "data": {
      "text/plain": [
       "array([0, 1, 0, 1, 0])"
      ]
     },
     "execution_count": 191,
     "metadata": {},
     "output_type": "execute_result"
    }
   ],
   "source": [
    "Vetor_Erros=(np.equal(Vetor_Previstos,Y))\n",
    "Vetor_Erros=Vetor_Erros.astype(int)-1\n",
    "Vetor_Erros=np.abs(Vetor_Erros)\n",
    "Vetor_Erros"
   ]
  },
  {
   "cell_type": "code",
   "execution_count": 192,
   "metadata": {},
   "outputs": [
    {
     "data": {
      "text/plain": [
       "0.4"
      ]
     },
     "execution_count": 192,
     "metadata": {},
     "output_type": "execute_result"
    }
   ],
   "source": [
    "Erro_In=Vetor_Erros.sum()/Qts_Instancias\n",
    "Erro_In"
   ]
  },
  {
   "cell_type": "code",
   "execution_count": 193,
   "metadata": {},
   "outputs": [
    {
     "data": {
      "text/plain": [
       "5"
      ]
     },
     "execution_count": 193,
     "metadata": {},
     "output_type": "execute_result"
    }
   ],
   "source": [
    "Qts_Instancias"
   ]
  },
  {
   "cell_type": "code",
   "execution_count": 179,
   "metadata": {},
   "outputs": [],
   "source": [
    "def PocketPerceptron(W,X,Y,maxiter=1000):\n",
    "    \"\"\"PocketPerceptron function implements the pocket perceptron. \n",
    "\n",
    "    This algorithm starts by checking if all training samples are correctly classified.\n",
    "    If some are not, choose one sample not correctly classified and adjust W. Then it \n",
    "    will repeat the above procedure until all samples are correctly classified, or until \n",
    "    the number of iterations reaches maxiter.\n",
    "\n",
    "    Parameters\n",
    "    ----------\n",
    "    W : numpy array of floats\n",
    "        The initial set of weights for the perceptron classificator.\n",
    "    X : numpy array of floats\n",
    "        The dataset with the bias (first column is equal to 1.0).\n",
    "    Y : numpy array of floats\n",
    "        The labels (-1.0, ou 1.0) for each line of X.\n",
    "    maxiter : integer\n",
    "        The maximum number of iterations allowed before stopping.\n",
    "\n",
    "    Returns\n",
    "    -------\n",
    "    A tuple (WPP, WPP_best)\n",
    "    WPP : list of numpy array of floats\n",
    "         All the weights of the perceptron classifier computed by the \n",
    "         algorithm. We need all of them to generate a movie later.\n",
    "    WPP_best : numpy array of floats\n",
    "        Array of weights found in the iteration with the least misclassifications.\n",
    "        If the dataset is linearly separable and maxiter is large enough, WPP_best = WPP[-1]\n",
    "    \n",
    "    \"\"\"\n",
    "\n",
    "    # Sets the random seed to guarantee reproducibility.\n",
    "    np.random.seed(34191)\n",
    "    \n",
    "    # shuffles both X and Y in the same order\n",
    "    randomize = np.arange(len(X))\n",
    "    np.random.shuffle(randomize)\n",
    "    X = X[randomize]\n",
    "    Y = Y[randomize]\n",
    "    \n",
    "    # YOUR CODE HERE\n",
    "    ####raise NotImplementedError()\n",
    "    \n",
    "    # Preparacao da base (ordenacao tanto da variaveis explicativas como dos rotulos)\n",
    "    Dados_Completos=Ordena(X,Y)\n",
    "    X=np.array(Dados_Completos[:,0:-1])\n",
    "    Y=np.array(Dados_Completos[:,-1])\n",
    "    \n",
    "    Qts_Instancias = np.shape(Y)[0] # define a quantidade de instancias\n",
    "    \n",
    "    i=0\n",
    "    iteracoes=1\n",
    "    WCP = W.flatten() \n",
    "    W_Best= W.flatten() \n",
    "    W_Atual= W.flatten() \n",
    "    while i<=Qts_Instancias-1:\n",
    "        if iteracoes>maxiter:\n",
    "            break\n",
    "        Previsto = Calcula_Previsto(W_Atual,X[i])\n",
    "        if Previsto != Y[i]:\n",
    "            W_Novo=Atualiza_Pesos(W_Atual,X[i],Y[i])\n",
    "            print(W_Novo)\n",
    "            Erro_Novo = Erro_In(X,Y,W_Novo)\n",
    "            Erro_Atual = Erro_In(X,Y,W_Atual)\n",
    "            if Erro_Novo<Erro_Atual:\n",
    "                W_Best=W_Novo\n",
    "            i=0\n",
    "            WCP=np.vstack([WCP,W_Novo])\n",
    "            iteracoes+=1\n",
    "            W_Atual=W_Novo.flatten() \n",
    "        else:\n",
    "            i+=1\n",
    "            iteracoes+=1\n",
    "    return (WCP,W_Best)"
   ]
  },
  {
   "cell_type": "code",
   "execution_count": null,
   "metadata": {},
   "outputs": [],
   "source": []
  },
  {
   "cell_type": "code",
   "execution_count": null,
   "metadata": {},
   "outputs": [],
   "source": []
  },
  {
   "cell_type": "code",
   "execution_count": 180,
   "metadata": {},
   "outputs": [],
   "source": [
    "X=Add_bias(np.array([[0,0],\n",
    "                     [1,1],\n",
    "                     [1,0],\n",
    "                     [1,1],\n",
    "                     [1,0.9]]))\n",
    "\n",
    "Y=np.array([-1,1,1,1,-1])\n",
    "\n",
    "W=np.array([0.5,-1,1])"
   ]
  },
  {
   "cell_type": "code",
   "execution_count": 181,
   "metadata": {},
   "outputs": [
    {
     "data": {
      "text/plain": [
       "array([[1. , 0. , 0. ],\n",
       "       [1. , 1. , 1. ],\n",
       "       [1. , 1. , 0. ],\n",
       "       [1. , 1. , 1. ],\n",
       "       [1. , 1. , 0.9]])"
      ]
     },
     "execution_count": 181,
     "metadata": {},
     "output_type": "execute_result"
    }
   ],
   "source": [
    "X"
   ]
  },
  {
   "cell_type": "code",
   "execution_count": 182,
   "metadata": {},
   "outputs": [
    {
     "data": {
      "text/plain": [
       "array([-1,  1,  1,  1, -1])"
      ]
     },
     "execution_count": 182,
     "metadata": {},
     "output_type": "execute_result"
    }
   ],
   "source": [
    "Y"
   ]
  },
  {
   "cell_type": "code",
   "execution_count": 183,
   "metadata": {},
   "outputs": [
    {
     "data": {
      "text/plain": [
       "array([ 0.5, -1. ,  1. ])"
      ]
     },
     "execution_count": 183,
     "metadata": {},
     "output_type": "execute_result"
    }
   ],
   "source": [
    "W"
   ]
  },
  {
   "cell_type": "code",
   "execution_count": 205,
   "metadata": {},
   "outputs": [],
   "source": [
    "w_pocket=PocketPerceptron(W,X,Y,2)"
   ]
  },
  {
   "cell_type": "code",
   "execution_count": 206,
   "metadata": {},
   "outputs": [
    {
     "data": {
      "text/plain": [
       "(array([-1.5,  2. , -1.4]), array([-1.5,  2. , -1.4]))"
      ]
     },
     "execution_count": 206,
     "metadata": {},
     "output_type": "execute_result"
    }
   ],
   "source": [
    "w_pocket"
   ]
  },
  {
   "cell_type": "code",
   "execution_count": 207,
   "metadata": {},
   "outputs": [
    {
     "data": {
      "text/plain": [
       "array([-1.5,  2. , -1.4])"
      ]
     },
     "execution_count": 207,
     "metadata": {},
     "output_type": "execute_result"
    }
   ],
   "source": [
    "# Analises\n",
    "w_geral=w_pocket[0]\n",
    "w_geral"
   ]
  },
  {
   "cell_type": "code",
   "execution_count": 208,
   "metadata": {},
   "outputs": [
    {
     "data": {
      "text/plain": [
       "array([-1.5,  2. , -1.4])"
      ]
     },
     "execution_count": 208,
     "metadata": {},
     "output_type": "execute_result"
    }
   ],
   "source": [
    "w_best=w_pocket[1]\n",
    "w_best"
   ]
  },
  {
   "cell_type": "code",
   "execution_count": 213,
   "metadata": {},
   "outputs": [
    {
     "data": {
      "text/plain": [
       "0.4"
      ]
     },
     "execution_count": 213,
     "metadata": {},
     "output_type": "execute_result"
    }
   ],
   "source": [
    "Erro_In(X,Y,w_geral[-1])"
   ]
  },
  {
   "cell_type": "code",
   "execution_count": 211,
   "metadata": {},
   "outputs": [
    {
     "data": {
      "text/plain": [
       "0.4"
      ]
     },
     "execution_count": 211,
     "metadata": {},
     "output_type": "execute_result"
    }
   ],
   "source": [
    "Erro_In(X,Y,w_best)"
   ]
  },
  {
   "cell_type": "code",
   "execution_count": 216,
   "metadata": {},
   "outputs": [
    {
     "data": {
      "image/png": "[encoded data removed]",
      "text/plain": [
       "<Figure size 432x288 with 1 Axes>"
      ]
     },
     "metadata": {
      "needs_background": "light"
     },
     "output_type": "display_data"
    }
   ],
   "source": [
    "DadosY = np.transpose(np.matrix(Y))\n",
    "Dados_Aux = np.append(X,DadosY,axis=1)\n",
    "PlotaSolucaoPerceptronClassico(X[:,1:],Y,w_best)"
   ]
  },
  {
   "cell_type": "code",
   "execution_count": null,
   "metadata": {},
   "outputs": [],
   "source": []
  }
 ],
 "metadata": {
  "kernelspec": {
   "display_name": "Python 3",
   "language": "python",
   "name": "python3"
  },
  "language_info": {
   "codemirror_mode": {
    "name": "ipython",
    "version": 3
   },
   "file_extension": ".py",
   "mimetype": "text/x-python",
   "name": "python",
   "nbconvert_exporter": "python",
   "pygments_lexer": "ipython3",
   "version": "3.7.0"
  }
 },
 "nbformat": 4,
 "nbformat_minor": 2
}
